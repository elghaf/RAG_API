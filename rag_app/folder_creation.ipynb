{
 "cells": [
  {
   "cell_type": "code",
   "execution_count": 1,
   "metadata": {},
   "outputs": [
    {
     "name": "stdout",
     "output_type": "stream",
     "text": [
      "Folder structure created successfully!\n"
     ]
    }
   ],
   "source": [
    "import os\n",
    "\n",
    "# Define folder and file structure\n",
    "structure = {\n",
    "    \"backend\": {\n",
    "        \"app\": {\n",
    "            \"__init__.py\": \"\",\n",
    "            \"main.py\": \"\",\n",
    "            \"config.py\": \"\",\n",
    "            \"models\": {\n",
    "                \"__init__.py\": \"\",\n",
    "                \"schemas.py\": \"\"\n",
    "            },\n",
    "            \"services\": {\n",
    "                \"__init__.py\": \"\",\n",
    "                \"database.py\": \"\",\n",
    "                \"file_processor.py\": \"\",\n",
    "                \"rag_service.py\": \"\"\n",
    "            },\n",
    "            \"utils\": {\n",
    "                \"__init__.py\": \"\",\n",
    "                \"embeddings.py\": \"\"\n",
    "            }\n",
    "        },\n",
    "        \"requirements.txt\": \"\",\n",
    "        \".env\": \"\"\n",
    "    }\n",
    "}\n",
    "\n",
    "# Function to create folders and files recursively\n",
    "def create_structure(base_path, structure):\n",
    "    for name, content in structure.items():\n",
    "        path = os.path.join(base_path, name)\n",
    "        if isinstance(content, dict):  # Create folder\n",
    "            os.makedirs(path, exist_ok=True)\n",
    "            create_structure(path, content)  # Recursively create structure\n",
    "        else:  # Create file\n",
    "            with open(path, 'w') as file:\n",
    "                file.write(content)\n",
    "\n",
    "# Specify base path and create structure\n",
    "base_path = \".\"\n",
    "create_structure(base_path, structure)\n",
    "\n",
    "print(\"Folder structure created successfully!\")\n"
   ]
  }
 ],
 "metadata": {
  "kernelspec": {
   "display_name": "base",
   "language": "python",
   "name": "python3"
  },
  "language_info": {
   "codemirror_mode": {
    "name": "ipython",
    "version": 3
   },
   "file_extension": ".py",
   "mimetype": "text/x-python",
   "name": "python",
   "nbconvert_exporter": "python",
   "pygments_lexer": "ipython3",
   "version": "3.12.4"
  }
 },
 "nbformat": 4,
 "nbformat_minor": 2
}
